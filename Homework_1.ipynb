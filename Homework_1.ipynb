{
 "cells": [
  {
   "cell_type": "code",
   "execution_count": 140,
   "id": "b5144129-f02b-4cf9-a803-a78807e7e796",
   "metadata": {},
   "outputs": [],
   "source": [
    "import pandas as pd\n",
    "import pyarrow as pa\n",
    "from sklearn.feature_extraction import DictVectorizer\n",
    "from sklearn.linear_model import LinearRegression\n",
    "from sklearn.metrics import mean_squared_error\n",
    "import numpy as np\n"
   ]
  },
  {
   "cell_type": "code",
   "execution_count": 141,
   "id": "e2153f24-b4ab-420f-8c73-c31dda53feaa",
   "metadata": {},
   "outputs": [],
   "source": [
    "january = pd.read_parquet(\"/Users/anandramaswamy/ml-ops-zoomcamp/01-intro/yellow_tripdata_2023-01.parquet\")\n",
    "february = pd.read_parquet(\"/Users/anandramaswamy/ml-ops-zoomcamp/01-intro/yellow_tripdata_2023-02.parquet\")"
   ]
  },
  {
   "cell_type": "code",
   "execution_count": 142,
   "id": "ace56c0d-af47-4a45-a57e-f2a319d31a78",
   "metadata": {
    "scrolled": true
   },
   "outputs": [
    {
     "name": "stdout",
     "output_type": "stream",
     "text": [
      "<class 'pandas.core.frame.DataFrame'>\n",
      "RangeIndex: 3066766 entries, 0 to 3066765\n",
      "Data columns (total 19 columns):\n",
      " #   Column                 Dtype         \n",
      "---  ------                 -----         \n",
      " 0   VendorID               int64         \n",
      " 1   tpep_pickup_datetime   datetime64[us]\n",
      " 2   tpep_dropoff_datetime  datetime64[us]\n",
      " 3   passenger_count        float64       \n",
      " 4   trip_distance          float64       \n",
      " 5   RatecodeID             float64       \n",
      " 6   store_and_fwd_flag     object        \n",
      " 7   PULocationID           int64         \n",
      " 8   DOLocationID           int64         \n",
      " 9   payment_type           int64         \n",
      " 10  fare_amount            float64       \n",
      " 11  extra                  float64       \n",
      " 12  mta_tax                float64       \n",
      " 13  tip_amount             float64       \n",
      " 14  tolls_amount           float64       \n",
      " 15  improvement_surcharge  float64       \n",
      " 16  total_amount           float64       \n",
      " 17  congestion_surcharge   float64       \n",
      " 18  airport_fee            float64       \n",
      "dtypes: datetime64[us](2), float64(12), int64(4), object(1)\n",
      "memory usage: 444.6+ MB\n"
     ]
    }
   ],
   "source": [
    "january.info()"
   ]
  },
  {
   "cell_type": "code",
   "execution_count": 143,
   "id": "4cfb72ba-9cc0-4618-8ec9-37f950b558a5",
   "metadata": {},
   "outputs": [
    {
     "data": {
      "text/plain": [
       "19"
      ]
     },
     "execution_count": 143,
     "metadata": {},
     "output_type": "execute_result"
    }
   ],
   "source": [
    "len(january.columns)"
   ]
  },
  {
   "cell_type": "code",
   "execution_count": 144,
   "id": "e06fc4b1-4f63-4ff0-b3e4-0ab0a418add4",
   "metadata": {},
   "outputs": [
    {
     "data": {
      "text/plain": [
       "42.594351241920904"
      ]
     },
     "execution_count": 144,
     "metadata": {},
     "output_type": "execute_result"
    }
   ],
   "source": [
    "january['duration'] = (january['tpep_dropoff_datetime'] - january['tpep_pickup_datetime']).dt.total_seconds() / 60\n",
    "january['duration'].std()\n"
   ]
  },
  {
   "cell_type": "code",
   "execution_count": 145,
   "id": "b4ced464-16b4-4e7c-8003-6df91d5fc81f",
   "metadata": {},
   "outputs": [
    {
     "name": "stdout",
     "output_type": "stream",
     "text": [
      "Fraction remaining: 0.9812 or 98.12%\n"
     ]
    }
   ],
   "source": [
    "january['duration'] = (january['tpep_dropoff_datetime'] - january['tpep_pickup_datetime']).dt.total_seconds() / 60\n",
    "filtered = january[(january['duration'] >= 1) & (january['duration'] <= 60)]\n",
    "fraction = len(filtered) / len(january)\n",
    "print(f\"Fraction remaining: {fraction:.4f} or {fraction * 100:.2f}%\")"
   ]
  },
  {
   "cell_type": "code",
   "execution_count": 146,
   "id": "d30565d8-6c8e-4d8b-9fcd-a32c6a484c72",
   "metadata": {},
   "outputs": [
    {
     "name": "stdout",
     "output_type": "stream",
     "text": [
      "(3066766, 518)\n"
     ]
    }
   ],
   "source": [
    "# Drop rows with missing PU or DO before encoding\n",
    "df = january[[\"PULocationID\", \"DOLocationID\"]].dropna().copy()\n",
    "\n",
    "# Now cast to string\n",
    "df[[\"PULocationID\", \"DOLocationID\"]] = df[[\"PULocationID\", \"DOLocationID\"]].astype(str)\n",
    "\n",
    "# Continue as before\n",
    "train_dicts = df.to_dict(orient=\"records\")\n",
    "dv = DictVectorizer()\n",
    "X_train = dv.fit_transform(train_dicts)\n",
    "print(X_train.shape)  # Should be (N, 515)\n"
   ]
  },
  {
   "cell_type": "code",
   "execution_count": 147,
   "id": "02a8fa33-36e2-48c3-9375-68887f332484",
   "metadata": {},
   "outputs": [
    {
     "name": "stdout",
     "output_type": "stream",
     "text": [
      "['DOLocationID=1' 'DOLocationID=10' 'DOLocationID=100' 'DOLocationID=101'\n",
      " 'DOLocationID=102' 'DOLocationID=105' 'DOLocationID=106'\n",
      " 'DOLocationID=107' 'DOLocationID=108' 'DOLocationID=109'\n",
      " 'DOLocationID=11' 'DOLocationID=111' 'DOLocationID=112'\n",
      " 'DOLocationID=113' 'DOLocationID=114' 'DOLocationID=115'\n",
      " 'DOLocationID=116' 'DOLocationID=117' 'DOLocationID=118'\n",
      " 'DOLocationID=119' 'DOLocationID=12' 'DOLocationID=120'\n",
      " 'DOLocationID=121' 'DOLocationID=122' 'DOLocationID=123'\n",
      " 'DOLocationID=124' 'DOLocationID=125' 'DOLocationID=126'\n",
      " 'DOLocationID=127' 'DOLocationID=128' 'DOLocationID=129'\n",
      " 'DOLocationID=13' 'DOLocationID=130' 'DOLocationID=131'\n",
      " 'DOLocationID=132' 'DOLocationID=133' 'DOLocationID=134'\n",
      " 'DOLocationID=135' 'DOLocationID=136' 'DOLocationID=137'\n",
      " 'DOLocationID=138' 'DOLocationID=139' 'DOLocationID=14'\n",
      " 'DOLocationID=140' 'DOLocationID=141' 'DOLocationID=142'\n",
      " 'DOLocationID=143' 'DOLocationID=144' 'DOLocationID=145'\n",
      " 'DOLocationID=146' 'DOLocationID=147' 'DOLocationID=148'\n",
      " 'DOLocationID=149' 'DOLocationID=15' 'DOLocationID=150'\n",
      " 'DOLocationID=151' 'DOLocationID=152' 'DOLocationID=153'\n",
      " 'DOLocationID=154' 'DOLocationID=155' 'DOLocationID=156'\n",
      " 'DOLocationID=157' 'DOLocationID=158' 'DOLocationID=159'\n",
      " 'DOLocationID=16' 'DOLocationID=160' 'DOLocationID=161'\n",
      " 'DOLocationID=162' 'DOLocationID=163' 'DOLocationID=164'\n",
      " 'DOLocationID=165' 'DOLocationID=166' 'DOLocationID=167'\n",
      " 'DOLocationID=168' 'DOLocationID=169' 'DOLocationID=17'\n",
      " 'DOLocationID=170' 'DOLocationID=171' 'DOLocationID=172'\n",
      " 'DOLocationID=173' 'DOLocationID=174' 'DOLocationID=175'\n",
      " 'DOLocationID=176' 'DOLocationID=177' 'DOLocationID=178'\n",
      " 'DOLocationID=179' 'DOLocationID=18' 'DOLocationID=180'\n",
      " 'DOLocationID=181' 'DOLocationID=182' 'DOLocationID=183'\n",
      " 'DOLocationID=184' 'DOLocationID=185' 'DOLocationID=186'\n",
      " 'DOLocationID=187' 'DOLocationID=188' 'DOLocationID=189'\n",
      " 'DOLocationID=19' 'DOLocationID=190' 'DOLocationID=191'\n",
      " 'DOLocationID=192' 'DOLocationID=193' 'DOLocationID=194'\n",
      " 'DOLocationID=195' 'DOLocationID=196' 'DOLocationID=197'\n",
      " 'DOLocationID=198' 'DOLocationID=2' 'DOLocationID=20' 'DOLocationID=200'\n",
      " 'DOLocationID=201' 'DOLocationID=202' 'DOLocationID=203'\n",
      " 'DOLocationID=204' 'DOLocationID=205' 'DOLocationID=206'\n",
      " 'DOLocationID=207' 'DOLocationID=208' 'DOLocationID=209'\n",
      " 'DOLocationID=21' 'DOLocationID=210' 'DOLocationID=211'\n",
      " 'DOLocationID=212' 'DOLocationID=213' 'DOLocationID=214'\n",
      " 'DOLocationID=215' 'DOLocationID=216' 'DOLocationID=217'\n",
      " 'DOLocationID=218' 'DOLocationID=219' 'DOLocationID=22'\n",
      " 'DOLocationID=220' 'DOLocationID=221' 'DOLocationID=222'\n",
      " 'DOLocationID=223' 'DOLocationID=224' 'DOLocationID=225'\n",
      " 'DOLocationID=226' 'DOLocationID=227' 'DOLocationID=228'\n",
      " 'DOLocationID=229' 'DOLocationID=23' 'DOLocationID=230'\n",
      " 'DOLocationID=231' 'DOLocationID=232' 'DOLocationID=233'\n",
      " 'DOLocationID=234' 'DOLocationID=235' 'DOLocationID=236'\n",
      " 'DOLocationID=237' 'DOLocationID=238' 'DOLocationID=239'\n",
      " 'DOLocationID=24' 'DOLocationID=240' 'DOLocationID=241'\n",
      " 'DOLocationID=242' 'DOLocationID=243' 'DOLocationID=244'\n",
      " 'DOLocationID=245' 'DOLocationID=246' 'DOLocationID=247'\n",
      " 'DOLocationID=248' 'DOLocationID=249' 'DOLocationID=25'\n",
      " 'DOLocationID=250' 'DOLocationID=251' 'DOLocationID=252'\n",
      " 'DOLocationID=253' 'DOLocationID=254' 'DOLocationID=255'\n",
      " 'DOLocationID=256' 'DOLocationID=257' 'DOLocationID=258'\n",
      " 'DOLocationID=259' 'DOLocationID=26' 'DOLocationID=260'\n",
      " 'DOLocationID=261' 'DOLocationID=262' 'DOLocationID=263'\n",
      " 'DOLocationID=264' 'DOLocationID=265' 'DOLocationID=27' 'DOLocationID=28'\n",
      " 'DOLocationID=29' 'DOLocationID=3' 'DOLocationID=30' 'DOLocationID=31'\n",
      " 'DOLocationID=32' 'DOLocationID=33' 'DOLocationID=34' 'DOLocationID=35'\n",
      " 'DOLocationID=36' 'DOLocationID=37' 'DOLocationID=38' 'DOLocationID=39'\n",
      " 'DOLocationID=4' 'DOLocationID=40' 'DOLocationID=41' 'DOLocationID=42'\n",
      " 'DOLocationID=43' 'DOLocationID=44' 'DOLocationID=45' 'DOLocationID=46'\n",
      " 'DOLocationID=47' 'DOLocationID=48' 'DOLocationID=49' 'DOLocationID=5'\n",
      " 'DOLocationID=50' 'DOLocationID=51' 'DOLocationID=52' 'DOLocationID=53'\n",
      " 'DOLocationID=54' 'DOLocationID=55' 'DOLocationID=56' 'DOLocationID=57'\n",
      " 'DOLocationID=58' 'DOLocationID=59' 'DOLocationID=6' 'DOLocationID=60'\n",
      " 'DOLocationID=61' 'DOLocationID=62' 'DOLocationID=63' 'DOLocationID=64'\n",
      " 'DOLocationID=65' 'DOLocationID=66' 'DOLocationID=67' 'DOLocationID=68'\n",
      " 'DOLocationID=69' 'DOLocationID=7' 'DOLocationID=70' 'DOLocationID=71'\n",
      " 'DOLocationID=72' 'DOLocationID=73' 'DOLocationID=74' 'DOLocationID=75'\n",
      " 'DOLocationID=76' 'DOLocationID=77' 'DOLocationID=78' 'DOLocationID=79'\n",
      " 'DOLocationID=8' 'DOLocationID=80' 'DOLocationID=81' 'DOLocationID=82'\n",
      " 'DOLocationID=83' 'DOLocationID=84' 'DOLocationID=85' 'DOLocationID=86'\n",
      " 'DOLocationID=87' 'DOLocationID=88' 'DOLocationID=89' 'DOLocationID=9'\n",
      " 'DOLocationID=90' 'DOLocationID=91' 'DOLocationID=92' 'DOLocationID=93'\n",
      " 'DOLocationID=94' 'DOLocationID=95' 'DOLocationID=96' 'DOLocationID=97'\n",
      " 'DOLocationID=98' 'DOLocationID=99' 'PULocationID=1' 'PULocationID=10'\n",
      " 'PULocationID=100' 'PULocationID=101' 'PULocationID=102'\n",
      " 'PULocationID=106' 'PULocationID=107' 'PULocationID=108'\n",
      " 'PULocationID=109' 'PULocationID=11' 'PULocationID=111'\n",
      " 'PULocationID=112' 'PULocationID=113' 'PULocationID=114'\n",
      " 'PULocationID=115' 'PULocationID=116' 'PULocationID=117'\n",
      " 'PULocationID=118' 'PULocationID=119' 'PULocationID=12'\n",
      " 'PULocationID=120' 'PULocationID=121' 'PULocationID=122'\n",
      " 'PULocationID=123' 'PULocationID=124' 'PULocationID=125'\n",
      " 'PULocationID=126' 'PULocationID=127' 'PULocationID=128'\n",
      " 'PULocationID=129' 'PULocationID=13' 'PULocationID=130'\n",
      " 'PULocationID=131' 'PULocationID=132' 'PULocationID=133'\n",
      " 'PULocationID=134' 'PULocationID=135' 'PULocationID=136'\n",
      " 'PULocationID=137' 'PULocationID=138' 'PULocationID=139'\n",
      " 'PULocationID=14' 'PULocationID=140' 'PULocationID=141'\n",
      " 'PULocationID=142' 'PULocationID=143' 'PULocationID=144'\n",
      " 'PULocationID=145' 'PULocationID=146' 'PULocationID=147'\n",
      " 'PULocationID=148' 'PULocationID=149' 'PULocationID=15'\n",
      " 'PULocationID=150' 'PULocationID=151' 'PULocationID=152'\n",
      " 'PULocationID=153' 'PULocationID=154' 'PULocationID=155'\n",
      " 'PULocationID=156' 'PULocationID=157' 'PULocationID=158'\n",
      " 'PULocationID=159' 'PULocationID=16' 'PULocationID=160'\n",
      " 'PULocationID=161' 'PULocationID=162' 'PULocationID=163'\n",
      " 'PULocationID=164' 'PULocationID=165' 'PULocationID=166'\n",
      " 'PULocationID=167' 'PULocationID=168' 'PULocationID=169'\n",
      " 'PULocationID=17' 'PULocationID=170' 'PULocationID=171'\n",
      " 'PULocationID=172' 'PULocationID=173' 'PULocationID=174'\n",
      " 'PULocationID=175' 'PULocationID=177' 'PULocationID=178'\n",
      " 'PULocationID=179' 'PULocationID=18' 'PULocationID=180'\n",
      " 'PULocationID=181' 'PULocationID=182' 'PULocationID=183'\n",
      " 'PULocationID=184' 'PULocationID=185' 'PULocationID=186'\n",
      " 'PULocationID=187' 'PULocationID=188' 'PULocationID=189'\n",
      " 'PULocationID=19' 'PULocationID=190' 'PULocationID=191'\n",
      " 'PULocationID=192' 'PULocationID=193' 'PULocationID=194'\n",
      " 'PULocationID=195' 'PULocationID=196' 'PULocationID=197'\n",
      " 'PULocationID=198' 'PULocationID=199' 'PULocationID=2' 'PULocationID=20'\n",
      " 'PULocationID=200' 'PULocationID=201' 'PULocationID=202'\n",
      " 'PULocationID=203' 'PULocationID=204' 'PULocationID=205'\n",
      " 'PULocationID=206' 'PULocationID=207' 'PULocationID=208'\n",
      " 'PULocationID=209' 'PULocationID=21' 'PULocationID=210'\n",
      " 'PULocationID=211' 'PULocationID=212' 'PULocationID=213'\n",
      " 'PULocationID=214' 'PULocationID=215' 'PULocationID=216'\n",
      " 'PULocationID=217' 'PULocationID=218' 'PULocationID=219'\n",
      " 'PULocationID=22' 'PULocationID=220' 'PULocationID=221'\n",
      " 'PULocationID=222' 'PULocationID=223' 'PULocationID=224'\n",
      " 'PULocationID=225' 'PULocationID=226' 'PULocationID=227'\n",
      " 'PULocationID=228' 'PULocationID=229' 'PULocationID=23'\n",
      " 'PULocationID=230' 'PULocationID=231' 'PULocationID=232'\n",
      " 'PULocationID=233' 'PULocationID=234' 'PULocationID=235'\n",
      " 'PULocationID=236' 'PULocationID=237' 'PULocationID=238'\n",
      " 'PULocationID=239' 'PULocationID=24' 'PULocationID=240'\n",
      " 'PULocationID=241' 'PULocationID=242' 'PULocationID=243'\n",
      " 'PULocationID=244' 'PULocationID=245' 'PULocationID=246'\n",
      " 'PULocationID=247' 'PULocationID=248' 'PULocationID=249'\n",
      " 'PULocationID=25' 'PULocationID=250' 'PULocationID=251'\n",
      " 'PULocationID=252' 'PULocationID=253' 'PULocationID=254'\n",
      " 'PULocationID=255' 'PULocationID=256' 'PULocationID=257'\n",
      " 'PULocationID=258' 'PULocationID=259' 'PULocationID=26'\n",
      " 'PULocationID=260' 'PULocationID=261' 'PULocationID=262'\n",
      " 'PULocationID=263' 'PULocationID=264' 'PULocationID=265'\n",
      " 'PULocationID=28' 'PULocationID=29' 'PULocationID=3' 'PULocationID=30'\n",
      " 'PULocationID=31' 'PULocationID=32' 'PULocationID=33' 'PULocationID=34'\n",
      " 'PULocationID=35' 'PULocationID=36' 'PULocationID=37' 'PULocationID=38'\n",
      " 'PULocationID=39' 'PULocationID=4' 'PULocationID=40' 'PULocationID=41'\n",
      " 'PULocationID=42' 'PULocationID=43' 'PULocationID=44' 'PULocationID=45'\n",
      " 'PULocationID=46' 'PULocationID=47' 'PULocationID=48' 'PULocationID=49'\n",
      " 'PULocationID=5' 'PULocationID=50' 'PULocationID=51' 'PULocationID=52'\n",
      " 'PULocationID=53' 'PULocationID=54' 'PULocationID=55' 'PULocationID=56'\n",
      " 'PULocationID=57' 'PULocationID=58' 'PULocationID=6' 'PULocationID=60'\n",
      " 'PULocationID=61' 'PULocationID=62' 'PULocationID=63' 'PULocationID=64'\n",
      " 'PULocationID=65' 'PULocationID=66' 'PULocationID=67' 'PULocationID=68'\n",
      " 'PULocationID=69' 'PULocationID=7' 'PULocationID=70' 'PULocationID=71'\n",
      " 'PULocationID=72' 'PULocationID=73' 'PULocationID=74' 'PULocationID=75'\n",
      " 'PULocationID=76' 'PULocationID=77' 'PULocationID=78' 'PULocationID=79'\n",
      " 'PULocationID=8' 'PULocationID=80' 'PULocationID=81' 'PULocationID=82'\n",
      " 'PULocationID=83' 'PULocationID=85' 'PULocationID=86' 'PULocationID=87'\n",
      " 'PULocationID=88' 'PULocationID=89' 'PULocationID=9' 'PULocationID=90'\n",
      " 'PULocationID=91' 'PULocationID=92' 'PULocationID=93' 'PULocationID=94'\n",
      " 'PULocationID=95' 'PULocationID=96' 'PULocationID=97' 'PULocationID=98'\n",
      " 'PULocationID=99']\n",
      "518\n"
     ]
    }
   ],
   "source": [
    "print(dv.get_feature_names_out())\n",
    "print(len(dv.get_feature_names_out()))\n"
   ]
  },
  {
   "cell_type": "code",
   "execution_count": 148,
   "id": "c03f1d81-e2fd-4799-b794-f39a87494982",
   "metadata": {},
   "outputs": [
    {
     "name": "stdout",
     "output_type": "stream",
     "text": [
      "RMSE: 7.65\n"
     ]
    }
   ],
   "source": [
    "# 1. Filter rows where duration is between 1 and 60 minutes\n",
    "df = january[(january[\"duration\"] >= 1) & (january[\"duration\"] <= 60)].copy()\n",
    "\n",
    "# 2. Select only pickup/dropoff, drop NaNs, and cast to string\n",
    "df = df[[\"PULocationID\", \"DOLocationID\", \"duration\"]].dropna()\n",
    "df[[\"PULocationID\", \"DOLocationID\"]] = df[[\"PULocationID\", \"DOLocationID\"]].astype(str)\n",
    "\n",
    "# 3. One-hot encode\n",
    "from sklearn.feature_extraction import DictVectorizer\n",
    "dv = DictVectorizer()\n",
    "train_dicts = df[[\"PULocationID\", \"DOLocationID\"]].to_dict(orient=\"records\")\n",
    "X_train = dv.fit_transform(train_dicts)\n",
    "\n",
    "# 4. Set target\n",
    "y_train = df[\"duration\"].values\n",
    "\n",
    "# 5. Train and evaluate\n",
    "from sklearn.linear_model import LinearRegression\n",
    "from sklearn.metrics import mean_squared_error\n",
    "import numpy as np\n",
    "\n",
    "lr = LinearRegression()\n",
    "lr.fit(X_train, y_train)\n",
    "y_pred = lr.predict(X_train)\n",
    "rmse = np.sqrt(mean_squared_error(y_train, y_pred))\n",
    "print(f\"RMSE: {rmse:.2f}\")\n"
   ]
  },
  {
   "cell_type": "code",
   "execution_count": 149,
   "id": "be0e840a-5548-4051-bc12-dd5dff377e54",
   "metadata": {},
   "outputs": [
    {
     "name": "stdout",
     "output_type": "stream",
     "text": [
      "Validation RMSE: 7.81\n"
     ]
    }
   ],
   "source": [
    "# 1. Compute duration\n",
    "february[\"duration\"] = (february[\"tpep_dropoff_datetime\"] - february[\"tpep_pickup_datetime\"]).dt.total_seconds() / 60\n",
    "\n",
    "# 2. Filter duration\n",
    "df_val = february[(february[\"duration\"] >= 1) & (february[\"duration\"] <= 60)].copy()\n",
    "\n",
    "# 3. Prepare features\n",
    "df_val = df_val[[\"PULocationID\", \"DOLocationID\", \"duration\"]].dropna()\n",
    "df_val[[\"PULocationID\", \"DOLocationID\"]] = df_val[[\"PULocationID\", \"DOLocationID\"]].astype(str)\n",
    "\n",
    "# 4. Use previously fitted DictVectorizer (don't fit again!)\n",
    "X_val = dv.transform(df_val[[\"PULocationID\", \"DOLocationID\"]].to_dict(orient=\"records\"))\n",
    "\n",
    "# 5. Target\n",
    "y_val = df_val[\"duration\"].values\n",
    "\n",
    "# 6. Predict and evaluate\n",
    "y_pred = lr.predict(X_val)\n",
    "rmse = np.sqrt(mean_squared_error(y_val, y_pred))\n",
    "print(f\"Validation RMSE: {rmse:.2f}\")\n"
   ]
  },
  {
   "cell_type": "code",
   "execution_count": null,
   "id": "2b40f0d2-4a23-4a00-9a9d-b4e57d0fb70b",
   "metadata": {},
   "outputs": [],
   "source": []
  }
 ],
 "metadata": {
  "kernelspec": {
   "display_name": "Python 3 (ipykernel)",
   "language": "python",
   "name": "python3"
  },
  "language_info": {
   "codemirror_mode": {
    "name": "ipython",
    "version": 3
   },
   "file_extension": ".py",
   "mimetype": "text/x-python",
   "name": "python",
   "nbconvert_exporter": "python",
   "pygments_lexer": "ipython3",
   "version": "3.12.7"
  }
 },
 "nbformat": 4,
 "nbformat_minor": 5
}
